{
 "cells": [
  {
   "cell_type": "code",
   "execution_count": 154,
   "id": "9da1d97d",
   "metadata": {},
   "outputs": [],
   "source": [
    "# import libraries\n",
    "from GeneticAlgorithm import GeneticChess\n",
    "import LineBeamSearch\n",
    "import MinConflictsHeuristic\n",
    "import SimulatedAnnealing\n",
    "import SteepestAscentHillClimb\n",
    "#\n",
    "import random\n",
    "random.seed(10)\n",
    "import sys\n",
    "sys.path.insert(0,'..')\n",
    "import time\n",
    "import timeit\n",
    "#\n",
    "import matplotlib.pyplot as plt\n",
    "import pandas as pd\n",
    "#\n",
    "from utils import num_attacks"
   ]
  },
  {
   "cell_type": "code",
   "execution_count": 155,
   "id": "5e33a977",
   "metadata": {},
   "outputs": [
    {
     "data": {
      "application/javascript": [
       "IPython.OutputArea.prototype._should_scroll = function(lines) {\n",
       "    return false;\n",
       "}\n"
      ],
      "text/plain": [
       "<IPython.core.display.Javascript object>"
      ]
     },
     "metadata": {},
     "output_type": "display_data"
    }
   ],
   "source": [
    "%%javascript\n",
    "IPython.OutputArea.prototype._should_scroll = function(lines) {\n",
    "    return false;\n",
    "}"
   ]
  },
  {
   "cell_type": "code",
   "execution_count": 156,
   "id": "6ac54779",
   "metadata": {},
   "outputs": [],
   "source": [
    "N_tests = [8, 10, 20, 50, 100]\n",
    "runs = 10"
   ]
  },
  {
   "cell_type": "code",
   "execution_count": 157,
   "id": "48e65d9f",
   "metadata": {},
   "outputs": [],
   "source": [
    "def get_solution(method,n):\n",
    "    chess = method(n,1000,printed_flag_shuffle=True)\n",
    "    solution = chess.find_solution()\n",
    "#     print(\"Solution: \", solution)\n",
    "    return solution"
   ]
  },
  {
   "cell_type": "code",
   "execution_count": 158,
   "id": "2a9fdeac",
   "metadata": {
    "scrolled": false
   },
   "outputs": [
    {
     "name": "stdout",
     "output_type": "stream",
     "text": [
      "\n",
      "getting execution times for n: 8...\n",
      "\n",
      "getting execution times for n: 10...\n",
      "\n",
      "getting execution times for n: 20...\n",
      "\n",
      "getting execution times for n: 50...\n",
      "\n",
      "getting execution times for n: 100...\n"
     ]
    }
   ],
   "source": [
    "GA_time = [[] for i in range(len(N_tests))]\n",
    "for i in range(len(N_tests)):\n",
    "    \n",
    "    print(f'\\ngetting execution times for n: {N_tests[i]}...')\n",
    "    for r in range(runs):\n",
    "        try:\n",
    "            start = timeit.default_timer()\n",
    "            while True:\n",
    "                solution = get_solution(GeneticChess,N_tests[i])\n",
    "                if num_attacks(solution) == 0:\n",
    "                    break\n",
    "            end = timeit.default_timer()\n",
    "            dur =float(end-start)\n",
    "#             print(round(dur,6))\n",
    "            GA_time[i].append(round(dur,6))\n",
    "        except:\n",
    "            time.sleep(1)\n",
    "            pass\n",
    "GA_time = pd.DataFrame(GA_time).T\n",
    "GA_time.columns = N_tests\n",
    "# GA_time"
   ]
  },
  {
   "cell_type": "code",
   "execution_count": 159,
   "id": "b4d60837",
   "metadata": {
    "scrolled": true
   },
   "outputs": [
    {
     "name": "stdout",
     "output_type": "stream",
     "text": [
      "\n",
      "getting execution times for n: 8...\n",
      "\n",
      "getting execution times for n: 10...\n",
      "\n",
      "getting execution times for n: 20...\n",
      "\n",
      "getting execution times for n: 50...\n",
      "\n",
      "getting execution times for n: 100...\n"
     ]
    }
   ],
   "source": [
    "LBS_time = [[] for i in range(len(N_tests))]\n",
    "for i in range(len(N_tests)):\n",
    "    \n",
    "    print(f'\\ngetting execution times for n: {N_tests[i]}...')\n",
    "    for r in range(runs):\n",
    "        try:\n",
    "            start = timeit.default_timer()\n",
    "            while True:\n",
    "                solution = LineBeamSearch.find_solution(N_tests[i])\n",
    "                if num_attacks(solution) == 0:\n",
    "                    break\n",
    "            end = timeit.default_timer()\n",
    "            dur =float(end-start)\n",
    "            LBS_time[i].append(round(dur,6))\n",
    "    #         print(round(dur,6))\n",
    "        except:\n",
    "            time.sleep(1)\n",
    "            pass\n",
    "LBS_time = pd.DataFrame(LBS_time).T\n",
    "LBS_time.columns = N_tests\n",
    "# LBS_time"
   ]
  },
  {
   "cell_type": "code",
   "execution_count": 160,
   "id": "ee04580b",
   "metadata": {},
   "outputs": [
    {
     "name": "stdout",
     "output_type": "stream",
     "text": [
      "\n",
      "getting execution times for n: 8...\n",
      "\n",
      "getting execution times for n: 10...\n",
      "\n",
      "getting execution times for n: 20...\n",
      "\n",
      "getting execution times for n: 50...\n",
      "\n",
      "getting execution times for n: 100...\n"
     ]
    }
   ],
   "source": [
    "MCH_time = [[] for i in range(len(N_tests))]\n",
    "for i in range(len(N_tests)):\n",
    "    \n",
    "    print(f'\\ngetting execution times for n: {N_tests[i]}...')\n",
    "    for r in range(runs):\n",
    "        try:\n",
    "            start = timeit.default_timer()\n",
    "            while True:\n",
    "                solution = MinConflictsHeuristic.find_solution(N_tests[i])\n",
    "                if num_attacks(solution) == 0:\n",
    "                    break\n",
    "            end = timeit.default_timer()\n",
    "            dur =float(end-start)\n",
    "            MCH_time[i].append(round(dur,6))\n",
    "#             print(round(dur,6))\n",
    "        except:\n",
    "            time.sleep(1)\n",
    "            pass\n",
    "MCH_time = pd.DataFrame(MCH_time).T\n",
    "MCH_time.columns = N_tests\n",
    "# MCH_time"
   ]
  },
  {
   "cell_type": "code",
   "execution_count": 161,
   "id": "777ccb02",
   "metadata": {},
   "outputs": [
    {
     "name": "stdout",
     "output_type": "stream",
     "text": [
      "\n",
      "getting execution times for n: 8...\n",
      "\n",
      "getting execution times for n: 10...\n",
      "\n",
      "getting execution times for n: 20...\n",
      "\n",
      "getting execution times for n: 50...\n",
      "\n",
      "getting execution times for n: 100...\n"
     ]
    }
   ],
   "source": [
    "SA_time = [[] for i in range(len(N_tests))]\n",
    "for i in range(len(N_tests)):\n",
    "    \n",
    "    print(f'\\ngetting execution times for n: {N_tests[i]}...')\n",
    "    for r in range(runs):\n",
    "        try:\n",
    "            start = timeit.default_timer()\n",
    "            while True:\n",
    "                solution = SimulatedAnnealing.find_solution(N_tests[i])\n",
    "                if num_attacks(solution) == 0:\n",
    "                    break\n",
    "            end = timeit.default_timer()\n",
    "            dur =float(end-start)\n",
    "            SA_time[i].append(round(dur,6))\n",
    "#             print(round(dur,6))\n",
    "        except:\n",
    "            time.sleep(1)\n",
    "            pass\n",
    "SA_time = pd.DataFrame(SA_time).T\n",
    "SA_time.columns = N_tests\n",
    "# SA_time"
   ]
  },
  {
   "cell_type": "code",
   "execution_count": 162,
   "id": "2f962a6e",
   "metadata": {
    "scrolled": true
   },
   "outputs": [
    {
     "name": "stdout",
     "output_type": "stream",
     "text": [
      "\n",
      "getting execution times for n: 8...\n",
      "\n",
      "getting execution times for n: 10...\n",
      "\n",
      "getting execution times for n: 20...\n",
      "\n",
      "getting execution times for n: 50...\n",
      "\n",
      "getting execution times for n: 100...\n"
     ]
    }
   ],
   "source": [
    "SAHC_time = [[] for i in range(len(N_tests))]\n",
    "for i in range(len(N_tests)):\n",
    "    \n",
    "    print(f'\\ngetting execution times for n: {N_tests[i]}...')\n",
    "    for r in range(runs):\n",
    "        try:\n",
    "            start = timeit.default_timer()\n",
    "            while True:\n",
    "                solution = SteepestAscentHillClimb.find_solution(N_tests[i])\n",
    "                if num_attacks(solution) == 0:\n",
    "                    break\n",
    "            end = timeit.default_timer()\n",
    "            dur =float(end-start)\n",
    "            SAHC_time[i].append(round(dur,6))\n",
    "#             print(round(dur,6))\n",
    "        except:\n",
    "            time.sleep(1)\n",
    "            pass\n",
    "SAHC_time = pd.DataFrame(SAHC_time).T\n",
    "SAHC_time.columns = N_tests\n",
    "# SAHC_time"
   ]
  },
  {
   "cell_type": "code",
   "execution_count": 163,
   "id": "3a0524e9",
   "metadata": {
    "scrolled": true
   },
   "outputs": [
    {
     "data": {
      "image/png": "[encoded data removed]",
      "text/plain": [
       "<Figure size 800x800 with 1 Axes>"
      ]
     },
     "metadata": {},
     "output_type": "display_data"
    }
   ],
   "source": [
    "plt.figure(figsize=(8, 8))\n",
    "plt.plot(GA_time.median(), label='GeneticAlgorithm')\n",
    "plt.plot(LBS_time.median(), label='LightBeamSearch')\n",
    "plt.plot(MCH_time.median(), label='MinConflictsHeuristic')\n",
    "plt.plot(SA_time.median(), label='SimulatedAnnealing')\n",
    "plt.plot(SAHC_time.median(), label='SteepestAscentHillClimb')\n",
    "plt.title(f'Median execution time by Algorithm')\n",
    "plt.legend(loc='upper left')\n",
    "plt.xticks(N_tests)\n",
    "plt.ylabel('Seconds')\n",
    "plt.xlabel('N Dimension')\n",
    "plt.grid(True)\n",
    "plt.savefig(f'solutions/ExecutionTimeByAlgorithm.png')\n",
    "plt.show()"
   ]
  },
  {
   "cell_type": "code",
   "execution_count": 164,
   "id": "e2b0bbb7",
   "metadata": {},
   "outputs": [
    {
     "name": "stdout",
     "output_type": "stream",
     "text": [
      "Median execution time in seconds by Algorithm and dimension N:\n"
     ]
    },
    {
     "data": {
      "text/html": [
       "<div>\n",
       "<style scoped>\n",
       "    .dataframe tbody tr th:only-of-type {\n",
       "        vertical-align: middle;\n",
       "    }\n",
       "\n",
       "    .dataframe tbody tr th {\n",
       "        vertical-align: top;\n",
       "    }\n",
       "\n",
       "    .dataframe thead th {\n",
       "        text-align: right;\n",
       "    }\n",
       "</style>\n",
       "<table border=\"1\" class=\"dataframe\">\n",
       "  <thead>\n",
       "    <tr style=\"text-align: right;\">\n",
       "      <th></th>\n",
       "      <th>GeneticAlgorithm</th>\n",
       "      <th>LightBeamSearch</th>\n",
       "      <th>MinConflictsHeuristic</th>\n",
       "      <th>SimulatedAnnealing</th>\n",
       "      <th>SteepestAscentHillClimb</th>\n",
       "    </tr>\n",
       "    <tr>\n",
       "      <th>Dimension</th>\n",
       "      <th></th>\n",
       "      <th></th>\n",
       "      <th></th>\n",
       "      <th></th>\n",
       "      <th></th>\n",
       "    </tr>\n",
       "  </thead>\n",
       "  <tbody>\n",
       "    <tr>\n",
       "      <th>8</th>\n",
       "      <td>0.016683</td>\n",
       "      <td>0.019324</td>\n",
       "      <td>0.000360</td>\n",
       "      <td>0.104892</td>\n",
       "      <td>0.005509</td>\n",
       "    </tr>\n",
       "    <tr>\n",
       "      <th>10</th>\n",
       "      <td>0.090403</td>\n",
       "      <td>0.049184</td>\n",
       "      <td>0.001077</td>\n",
       "      <td>0.221170</td>\n",
       "      <td>0.016686</td>\n",
       "    </tr>\n",
       "    <tr>\n",
       "      <th>20</th>\n",
       "      <td>0.305275</td>\n",
       "      <td>0.717842</td>\n",
       "      <td>0.002702</td>\n",
       "      <td>1.230274</td>\n",
       "      <td>0.363820</td>\n",
       "    </tr>\n",
       "    <tr>\n",
       "      <th>50</th>\n",
       "      <td>8.216273</td>\n",
       "      <td>50.498953</td>\n",
       "      <td>0.028449</td>\n",
       "      <td>22.322581</td>\n",
       "      <td>8.261959</td>\n",
       "    </tr>\n",
       "    <tr>\n",
       "      <th>100</th>\n",
       "      <td>102.868486</td>\n",
       "      <td>257.158231</td>\n",
       "      <td>0.140126</td>\n",
       "      <td>589.816599</td>\n",
       "      <td>144.150233</td>\n",
       "    </tr>\n",
       "  </tbody>\n",
       "</table>\n",
       "</div>"
      ],
      "text/plain": [
       "           GeneticAlgorithm  LightBeamSearch  MinConflictsHeuristic  \\\n",
       "Dimension                                                             \n",
       "8                  0.016683         0.019324               0.000360   \n",
       "10                 0.090403         0.049184               0.001077   \n",
       "20                 0.305275         0.717842               0.002702   \n",
       "50                 8.216273        50.498953               0.028449   \n",
       "100              102.868486       257.158231               0.140126   \n",
       "\n",
       "           SimulatedAnnealing  SteepestAscentHillClimb  \n",
       "Dimension                                               \n",
       "8                    0.104892                 0.005509  \n",
       "10                   0.221170                 0.016686  \n",
       "20                   1.230274                 0.363820  \n",
       "50                  22.322581                 8.261959  \n",
       "100                589.816599               144.150233  "
      ]
     },
     "execution_count": 164,
     "metadata": {},
     "output_type": "execute_result"
    }
   ],
   "source": [
    "GA=GA_time.median()\n",
    "GA.name='GeneticAlgorithm'\n",
    "LBS=LBS_time.median()\n",
    "LBS.name='LightBeamSearch'\n",
    "MCH=MCH_time.median()\n",
    "MCH.name='MinConflictsHeuristic'\n",
    "SA=SA_time.median()\n",
    "SA.name='SimulatedAnnealing'\n",
    "SAHC=SAHC_time.median()\n",
    "SAHC.name='SteepestAscentHillClimb'\n",
    "#\n",
    "summary = pd.concat([GA, LBS, MCH, SA, SAHC], axis=1)\n",
    "summary.index.name='Dimension'\n",
    "print('Median execution time in seconds by Algorithm and dimension N:')\n",
    "summary"
   ]
  },
  {
   "cell_type": "code",
   "execution_count": 165,
   "id": "5ac8cf18",
   "metadata": {},
   "outputs": [
    {
     "name": "stdout",
     "output_type": "stream",
     "text": [
      "Average execution time in seconds by Algorithm and dimension N:\n"
     ]
    },
    {
     "data": {
      "text/html": [
       "<div>\n",
       "<style scoped>\n",
       "    .dataframe tbody tr th:only-of-type {\n",
       "        vertical-align: middle;\n",
       "    }\n",
       "\n",
       "    .dataframe tbody tr th {\n",
       "        vertical-align: top;\n",
       "    }\n",
       "\n",
       "    .dataframe thead th {\n",
       "        text-align: right;\n",
       "    }\n",
       "</style>\n",
       "<table border=\"1\" class=\"dataframe\">\n",
       "  <thead>\n",
       "    <tr style=\"text-align: right;\">\n",
       "      <th></th>\n",
       "      <th>GeneticAlgorithm</th>\n",
       "      <th>LightBeamSearch</th>\n",
       "      <th>MinConflictsHeuristic</th>\n",
       "      <th>SimulatedAnnealing</th>\n",
       "      <th>SteepestAscentHillClimb</th>\n",
       "    </tr>\n",
       "    <tr>\n",
       "      <th>Dimension</th>\n",
       "      <th></th>\n",
       "      <th></th>\n",
       "      <th></th>\n",
       "      <th></th>\n",
       "      <th></th>\n",
       "    </tr>\n",
       "  </thead>\n",
       "  <tbody>\n",
       "    <tr>\n",
       "      <th>8</th>\n",
       "      <td>0.044296</td>\n",
       "      <td>0.019721</td>\n",
       "      <td>0.000480</td>\n",
       "      <td>0.118133</td>\n",
       "      <td>0.012388</td>\n",
       "    </tr>\n",
       "    <tr>\n",
       "      <th>10</th>\n",
       "      <td>0.092703</td>\n",
       "      <td>0.164869</td>\n",
       "      <td>0.001054</td>\n",
       "      <td>0.230164</td>\n",
       "      <td>0.025047</td>\n",
       "    </tr>\n",
       "    <tr>\n",
       "      <th>20</th>\n",
       "      <td>0.330923</td>\n",
       "      <td>1.679765</td>\n",
       "      <td>0.005164</td>\n",
       "      <td>1.255692</td>\n",
       "      <td>0.553639</td>\n",
       "    </tr>\n",
       "    <tr>\n",
       "      <th>50</th>\n",
       "      <td>8.647337</td>\n",
       "      <td>84.845339</td>\n",
       "      <td>0.027264</td>\n",
       "      <td>25.359153</td>\n",
       "      <td>11.955100</td>\n",
       "    </tr>\n",
       "    <tr>\n",
       "      <th>100</th>\n",
       "      <td>99.217479</td>\n",
       "      <td>503.804149</td>\n",
       "      <td>0.149035</td>\n",
       "      <td>767.815859</td>\n",
       "      <td>266.636083</td>\n",
       "    </tr>\n",
       "  </tbody>\n",
       "</table>\n",
       "</div>"
      ],
      "text/plain": [
       "           GeneticAlgorithm  LightBeamSearch  MinConflictsHeuristic  \\\n",
       "Dimension                                                             \n",
       "8                  0.044296         0.019721               0.000480   \n",
       "10                 0.092703         0.164869               0.001054   \n",
       "20                 0.330923         1.679765               0.005164   \n",
       "50                 8.647337        84.845339               0.027264   \n",
       "100               99.217479       503.804149               0.149035   \n",
       "\n",
       "           SimulatedAnnealing  SteepestAscentHillClimb  \n",
       "Dimension                                               \n",
       "8                    0.118133                 0.012388  \n",
       "10                   0.230164                 0.025047  \n",
       "20                   1.255692                 0.553639  \n",
       "50                  25.359153                11.955100  \n",
       "100                767.815859               266.636083  "
      ]
     },
     "execution_count": 165,
     "metadata": {},
     "output_type": "execute_result"
    }
   ],
   "source": [
    "GA=GA_time.mean()\n",
    "GA.name='GeneticAlgorithm'\n",
    "LBS=LBS_time.mean()\n",
    "LBS.name='LightBeamSearch'\n",
    "MCH=MCH_time.mean()\n",
    "MCH.name='MinConflictsHeuristic'\n",
    "SA=SA_time.mean()\n",
    "SA.name='SimulatedAnnealing'\n",
    "SAHC=SAHC_time.mean()\n",
    "SAHC.name='SteepestAscentHillClimb'\n",
    "#\n",
    "summary = pd.concat([GA, LBS, MCH, SA, SAHC], axis=1)\n",
    "summary.index.name='Dimension'\n",
    "print('Average execution time in seconds by Algorithm and dimension N:')\n",
    "summary"
   ]
  }
 ],
 "metadata": {
  "kernelspec": {
   "display_name": "Python 3 (ipykernel)",
   "language": "python",
   "name": "python3"
  },
  "language_info": {
   "codemirror_mode": {
    "name": "ipython",
    "version": 3
   },
   "file_extension": ".py",
   "mimetype": "text/x-python",
   "name": "python",
   "nbconvert_exporter": "python",
   "pygments_lexer": "ipython3",
   "version": "3.9.13"
  }
 },
 "nbformat": 4,
 "nbformat_minor": 5
}
