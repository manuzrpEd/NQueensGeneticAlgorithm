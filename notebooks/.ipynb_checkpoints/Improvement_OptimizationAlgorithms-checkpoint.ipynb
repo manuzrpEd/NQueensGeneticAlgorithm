{
 "cells": [
  {
   "cell_type": "code",
   "execution_count": 4,
   "id": "9da1d97d",
   "metadata": {},
   "outputs": [],
   "source": [
    "# import libraries\n",
    "import random\n",
    "random.seed(10)\n",
    "import sys\n",
    "sys.path.insert(0,'..')\n",
    "import time\n",
    "import timeit\n",
    "#\n",
    "import matplotlib.pyplot as plt\n",
    "import pandas as pd\n",
    "#\n",
    "from utils import num_attacks\n",
    "#\n",
    "from algorithms.GeneticAlgorithm import GeneticChess\n",
    "from algorithms import LightBeamSearch\n",
    "from algorithms import MinConflictsHeuristic\n",
    "from algorithms import SimulatedAnnealing\n",
    "from algorithms import SteepestAscentHillClimb"
   ]
  },
  {
   "cell_type": "code",
   "execution_count": 5,
   "id": "5e33a977",
   "metadata": {},
   "outputs": [
    {
     "data": {
      "application/javascript": [
       "IPython.OutputArea.prototype._should_scroll = function(lines) {\n",
       "    return false;\n",
       "}\n"
      ],
      "text/plain": [
       "<IPython.core.display.Javascript object>"
      ]
     },
     "metadata": {},
     "output_type": "display_data"
    }
   ],
   "source": [
    "%%javascript\n",
    "IPython.OutputArea.prototype._should_scroll = function(lines) {\n",
    "    return false;\n",
    "}"
   ]
  },
  {
   "cell_type": "code",
   "execution_count": 6,
   "id": "6ac54779",
   "metadata": {},
   "outputs": [],
   "source": [
    "N_tests = [8, 10, 20, 50, 100]\n",
    "runs = 10"
   ]
  },
  {
   "cell_type": "code",
   "execution_count": 7,
   "id": "48e65d9f",
   "metadata": {},
   "outputs": [],
   "source": [
    "def get_solution(method,n: int):\n",
    "    \"\"\"\n",
    "    This function gets the solution to the N-Queen problem.\n",
    "    \n",
    "    Parameters:\n",
    "    method: The method to solve the N-Queen problem.\n",
    "    n (int): The dimension (number of desired queens).\n",
    "    \n",
    "    Returns:\n",
    "    solution: The proposed solution.\n",
    "    \"\"\"\n",
    "    assert type(n) == int, \"n is not an integer!\"\n",
    "    \n",
    "    chess = method(n,1000,printed_flag_shuffle=True)\n",
    "    solution = chess.find_solution()\n",
    "#     print(\"Solution: \", solution)\n",
    "    return solution"
   ]
  },
  {
   "cell_type": "code",
   "execution_count": 8,
   "id": "2a9fdeac",
   "metadata": {
    "scrolled": false
   },
   "outputs": [
    {
     "name": "stdout",
     "output_type": "stream",
     "text": [
      "\n",
      "getting execution times for n: 8...\n",
      "\n",
      "getting execution times for n: 10...\n",
      "\n",
      "getting execution times for n: 20...\n",
      "\n",
      "getting execution times for n: 50...\n",
      "\n",
      "getting execution times for n: 100...\n"
     ]
    }
   ],
   "source": [
    "GA_time = [[] for i in range(len(N_tests))]\n",
    "for i in range(len(N_tests)):\n",
    "    \n",
    "    print(f'\\ngetting execution times for n: {N_tests[i]}...')\n",
    "    for r in range(runs):\n",
    "        try:\n",
    "            start = timeit.default_timer()\n",
    "            while True:\n",
    "                solution = get_solution(GeneticChess,N_tests[i])\n",
    "                if num_attacks(solution) == 0:\n",
    "                    break\n",
    "            end = timeit.default_timer()\n",
    "            dur =float(end-start)\n",
    "#             print(round(dur,6))\n",
    "            GA_time[i].append(round(dur,6))\n",
    "        except:\n",
    "            time.sleep(1)\n",
    "            pass\n",
    "GA_time = pd.DataFrame(GA_time).T\n",
    "GA_time.columns = N_tests\n",
    "# GA_time"
   ]
  },
  {
   "cell_type": "code",
   "execution_count": 9,
   "id": "b4d60837",
   "metadata": {
    "scrolled": true
   },
   "outputs": [
    {
     "name": "stdout",
     "output_type": "stream",
     "text": [
      "\n",
      "getting execution times for n: 8...\n",
      "\n",
      "getting execution times for n: 10...\n",
      "\n",
      "getting execution times for n: 20...\n",
      "\n",
      "getting execution times for n: 50...\n",
      "\n",
      "getting execution times for n: 100...\n"
     ]
    },
    {
     "ename": "KeyboardInterrupt",
     "evalue": "",
     "output_type": "error",
     "traceback": [
      "\u001b[1;31m---------------------------------------------------------------------------\u001b[0m",
      "\u001b[1;31mKeyboardInterrupt\u001b[0m                         Traceback (most recent call last)",
      "Cell \u001b[1;32mIn [9], line 9\u001b[0m\n\u001b[0;32m      8\u001b[0m \u001b[38;5;28;01mwhile\u001b[39;00m \u001b[38;5;28;01mTrue\u001b[39;00m:\n\u001b[1;32m----> 9\u001b[0m     solution \u001b[38;5;241m=\u001b[39m \u001b[43mLineBeamSearch\u001b[49m\u001b[38;5;241;43m.\u001b[39;49m\u001b[43mfind_solution\u001b[49m\u001b[43m(\u001b[49m\u001b[43mN_tests\u001b[49m\u001b[43m[\u001b[49m\u001b[43mi\u001b[49m\u001b[43m]\u001b[49m\u001b[43m)\u001b[49m\n\u001b[0;32m     10\u001b[0m     \u001b[38;5;28;01mif\u001b[39;00m num_attacks(solution) \u001b[38;5;241m==\u001b[39m \u001b[38;5;241m0\u001b[39m:\n",
      "File \u001b[1;32m~\\Desktop\\Adm\\Projects\\NQueensGeneticAlgorithm\\notebooks\\..\\algorithms\\LineBeamSearch.py:54\u001b[0m, in \u001b[0;36mfind_solution\u001b[1;34m(n)\u001b[0m\n",
      "File \u001b[1;32m~\\Desktop\\Adm\\Projects\\NQueensGeneticAlgorithm\\notebooks\\..\\algorithms\\LineBeamSearch.py:83\u001b[0m, in \u001b[0;36mget_neighbours\u001b[1;34m(state)\u001b[0m\n",
      "File \u001b[1;32m~\\Desktop\\Adm\\Projects\\NQueensGeneticAlgorithm\\notebooks\\..\\algorithms\\LineBeamSearch.py:24\u001b[0m, in \u001b[0;36m__init__\u001b[1;34m(self, state)\u001b[0m\n",
      "File \u001b[1;32m~\\Desktop\\Adm\\Projects\\NQueensGeneticAlgorithm\\notebooks\\..\\utils.py:19\u001b[0m, in \u001b[0;36mnum_attacks\u001b[1;34m(state)\u001b[0m\n\u001b[0;32m     17\u001b[0m count \u001b[38;5;241m+\u001b[39m\u001b[38;5;241m=\u001b[39m \u001b[38;5;28mlen\u001b[39m(state) \u001b[38;5;241m-\u001b[39m \u001b[38;5;28mlen\u001b[39m(\u001b[38;5;28mset\u001b[39m(state))\n\u001b[1;32m---> 19\u001b[0m diag_state1 \u001b[38;5;241m=\u001b[39m [state[i] \u001b[38;5;241m-\u001b[39m i \u001b[38;5;28;01mfor\u001b[39;00m i \u001b[38;5;129;01min\u001b[39;00m \u001b[38;5;28mrange\u001b[39m(\u001b[38;5;28mlen\u001b[39m(state))]\n\u001b[0;32m     20\u001b[0m diag_state2 \u001b[38;5;241m=\u001b[39m [state[i] \u001b[38;5;241m+\u001b[39m i \u001b[38;5;28;01mfor\u001b[39;00m i \u001b[38;5;129;01min\u001b[39;00m \u001b[38;5;28mrange\u001b[39m(\u001b[38;5;28mlen\u001b[39m(state))]\n",
      "File \u001b[1;32m~\\Desktop\\Adm\\Projects\\NQueensGeneticAlgorithm\\notebooks\\..\\utils.py:19\u001b[0m, in \u001b[0;36m<listcomp>\u001b[1;34m(.0)\u001b[0m\n\u001b[0;32m     17\u001b[0m count \u001b[38;5;241m+\u001b[39m\u001b[38;5;241m=\u001b[39m \u001b[38;5;28mlen\u001b[39m(state) \u001b[38;5;241m-\u001b[39m \u001b[38;5;28mlen\u001b[39m(\u001b[38;5;28mset\u001b[39m(state))\n\u001b[1;32m---> 19\u001b[0m diag_state1 \u001b[38;5;241m=\u001b[39m [\u001b[43mstate\u001b[49m[i] \u001b[38;5;241m-\u001b[39m i \u001b[38;5;28;01mfor\u001b[39;00m i \u001b[38;5;129;01min\u001b[39;00m \u001b[38;5;28mrange\u001b[39m(\u001b[38;5;28mlen\u001b[39m(state))]\n\u001b[0;32m     20\u001b[0m diag_state2 \u001b[38;5;241m=\u001b[39m [state[i] \u001b[38;5;241m+\u001b[39m i \u001b[38;5;28;01mfor\u001b[39;00m i \u001b[38;5;129;01min\u001b[39;00m \u001b[38;5;28mrange\u001b[39m(\u001b[38;5;28mlen\u001b[39m(state))]\n",
      "\u001b[1;31mKeyboardInterrupt\u001b[0m: ",
      "\nDuring handling of the above exception, another exception occurred:\n",
      "\u001b[1;31mKeyboardInterrupt\u001b[0m                         Traceback (most recent call last)",
      "Cell \u001b[1;32mIn [9], line 17\u001b[0m\n\u001b[0;32m     15\u001b[0m     \u001b[38;5;66;03m#         print(round(dur,6))\u001b[39;00m\n\u001b[0;32m     16\u001b[0m         \u001b[38;5;28;01mexcept\u001b[39;00m:\n\u001b[1;32m---> 17\u001b[0m             \u001b[43mtime\u001b[49m\u001b[38;5;241;43m.\u001b[39;49m\u001b[43msleep\u001b[49m\u001b[43m(\u001b[49m\u001b[38;5;241;43m1\u001b[39;49m\u001b[43m)\u001b[49m\n\u001b[0;32m     18\u001b[0m             \u001b[38;5;28;01mpass\u001b[39;00m\n\u001b[0;32m     19\u001b[0m LBS_time \u001b[38;5;241m=\u001b[39m pd\u001b[38;5;241m.\u001b[39mDataFrame(LBS_time)\u001b[38;5;241m.\u001b[39mT\n",
      "\u001b[1;31mKeyboardInterrupt\u001b[0m: "
     ]
    }
   ],
   "source": [
    "LBS_time = [[] for i in range(len(N_tests))]\n",
    "for i in range(len(N_tests)):\n",
    "    \n",
    "    print(f'\\ngetting execution times for n: {N_tests[i]}...')\n",
    "    for r in range(runs):\n",
    "        try:\n",
    "            start = timeit.default_timer()\n",
    "            while True:\n",
    "                solution = LightBeamSearch.find_solution(N_tests[i])\n",
    "                if num_attacks(solution) == 0:\n",
    "                    break\n",
    "            end = timeit.default_timer()\n",
    "            dur =float(end-start)\n",
    "            LBS_time[i].append(round(dur,6))\n",
    "    #         print(round(dur,6))\n",
    "        except:\n",
    "            time.sleep(1)\n",
    "            pass\n",
    "LBS_time = pd.DataFrame(LBS_time).T\n",
    "LBS_time.columns = N_tests\n",
    "# LBS_time"
   ]
  },
  {
   "cell_type": "code",
   "execution_count": null,
   "id": "ee04580b",
   "metadata": {},
   "outputs": [],
   "source": [
    "MCH_time = [[] for i in range(len(N_tests))]\n",
    "for i in range(len(N_tests)):\n",
    "    \n",
    "    print(f'\\ngetting execution times for n: {N_tests[i]}...')\n",
    "    for r in range(runs):\n",
    "        try:\n",
    "            start = timeit.default_timer()\n",
    "            while True:\n",
    "                solution = MinConflictsHeuristic.find_solution(N_tests[i])\n",
    "                if num_attacks(solution) == 0:\n",
    "                    break\n",
    "            end = timeit.default_timer()\n",
    "            dur =float(end-start)\n",
    "            MCH_time[i].append(round(dur,6))\n",
    "#             print(round(dur,6))\n",
    "        except:\n",
    "            time.sleep(1)\n",
    "            pass\n",
    "MCH_time = pd.DataFrame(MCH_time).T\n",
    "MCH_time.columns = N_tests\n",
    "# MCH_time"
   ]
  },
  {
   "cell_type": "code",
   "execution_count": null,
   "id": "777ccb02",
   "metadata": {},
   "outputs": [],
   "source": [
    "SA_time = [[] for i in range(len(N_tests))]\n",
    "for i in range(len(N_tests)):\n",
    "    \n",
    "    print(f'\\ngetting execution times for n: {N_tests[i]}...')\n",
    "    for r in range(runs):\n",
    "        try:\n",
    "            start = timeit.default_timer()\n",
    "            while True:\n",
    "                solution = SimulatedAnnealing.find_solution(N_tests[i])\n",
    "                if num_attacks(solution) == 0:\n",
    "                    break\n",
    "            end = timeit.default_timer()\n",
    "            dur =float(end-start)\n",
    "            SA_time[i].append(round(dur,6))\n",
    "#             print(round(dur,6))\n",
    "        except:\n",
    "            time.sleep(1)\n",
    "            pass\n",
    "SA_time = pd.DataFrame(SA_time).T\n",
    "SA_time.columns = N_tests\n",
    "# SA_time"
   ]
  },
  {
   "cell_type": "code",
   "execution_count": null,
   "id": "2f962a6e",
   "metadata": {
    "scrolled": true
   },
   "outputs": [],
   "source": [
    "SAHC_time = [[] for i in range(len(N_tests))]\n",
    "for i in range(len(N_tests)):\n",
    "    \n",
    "    print(f'\\ngetting execution times for n: {N_tests[i]}...')\n",
    "    for r in range(runs):\n",
    "        try:\n",
    "            start = timeit.default_timer()\n",
    "            while True:\n",
    "                solution = SteepestAscentHillClimb.find_solution(N_tests[i])\n",
    "                if num_attacks(solution) == 0:\n",
    "                    break\n",
    "            end = timeit.default_timer()\n",
    "            dur =float(end-start)\n",
    "            SAHC_time[i].append(round(dur,6))\n",
    "#             print(round(dur,6))\n",
    "        except:\n",
    "            time.sleep(1)\n",
    "            pass\n",
    "SAHC_time = pd.DataFrame(SAHC_time).T\n",
    "SAHC_time.columns = N_tests\n",
    "# SAHC_time"
   ]
  },
  {
   "cell_type": "code",
   "execution_count": null,
   "id": "3a0524e9",
   "metadata": {
    "scrolled": true
   },
   "outputs": [],
   "source": [
    "plt.figure(figsize=(8, 8))\n",
    "plt.plot(GA_time.median(), label='GeneticAlgorithm')\n",
    "plt.plot(LBS_time.median(), label='LightBeamSearch')\n",
    "plt.plot(MCH_time.median(), label='MinConflictsHeuristic')\n",
    "plt.plot(SA_time.median(), label='SimulatedAnnealing')\n",
    "plt.plot(SAHC_time.median(), label='SteepestAscentHillClimb')\n",
    "plt.title(f'Median execution time by Algorithm')\n",
    "plt.legend(loc='upper left')\n",
    "plt.xticks(N_tests)\n",
    "plt.ylabel('Seconds')\n",
    "plt.xlabel('N Dimension')\n",
    "plt.grid(True)\n",
    "plt.savefig(f'../solutions/ExecutionTimeByAlgorithm.png')\n",
    "plt.show()"
   ]
  },
  {
   "cell_type": "code",
   "execution_count": null,
   "id": "e2b0bbb7",
   "metadata": {
    "scrolled": true
   },
   "outputs": [],
   "source": [
    "GA=GA_time.median()\n",
    "GA.name='GeneticAlgorithm'\n",
    "LBS=LBS_time.median()\n",
    "LBS.name='LightBeamSearch'\n",
    "MCH=MCH_time.median()\n",
    "MCH.name='MinConflictsHeuristic'\n",
    "SA=SA_time.median()\n",
    "SA.name='SimulatedAnnealing'\n",
    "SAHC=SAHC_time.median()\n",
    "SAHC.name='SteepestAscentHillClimb'\n",
    "#\n",
    "summary = pd.concat([GA, LBS, MCH, SA, SAHC], axis=1)\n",
    "summary.index.name='Dimension'\n",
    "print('Median execution time in seconds by Algorithm and dimension N:')\n",
    "summary"
   ]
  },
  {
   "cell_type": "code",
   "execution_count": null,
   "id": "7cadbcf7",
   "metadata": {},
   "outputs": [],
   "source": [
    "print(summary.to_markdown())"
   ]
  },
  {
   "cell_type": "code",
   "execution_count": null,
   "id": "5ac8cf18",
   "metadata": {},
   "outputs": [],
   "source": [
    "GA=GA_time.mean()\n",
    "GA.name='GeneticAlgorithm'\n",
    "LBS=LBS_time.mean()\n",
    "LBS.name='LightBeamSearch'\n",
    "MCH=MCH_time.mean()\n",
    "MCH.name='MinConflictsHeuristic'\n",
    "SA=SA_time.mean()\n",
    "SA.name='SimulatedAnnealing'\n",
    "SAHC=SAHC_time.mean()\n",
    "SAHC.name='SteepestAscentHillClimb'\n",
    "#\n",
    "summary = pd.concat([GA, LBS, MCH, SA, SAHC], axis=1)\n",
    "summary.index.name='Dimension'\n",
    "print('Average execution time in seconds by Algorithm and dimension N:')\n",
    "summary"
   ]
  },
  {
   "cell_type": "code",
   "execution_count": null,
   "id": "329a9161",
   "metadata": {},
   "outputs": [],
   "source": [
    "print(summary.to_markdown())"
   ]
  }
 ],
 "metadata": {
  "kernelspec": {
   "display_name": "Python 3 (ipykernel)",
   "language": "python",
   "name": "python3"
  },
  "language_info": {
   "codemirror_mode": {
    "name": "ipython",
    "version": 3
   },
   "file_extension": ".py",
   "mimetype": "text/x-python",
   "name": "python",
   "nbconvert_exporter": "python",
   "pygments_lexer": "ipython3",
   "version": "3.9.13"
  }
 },
 "nbformat": 4,
 "nbformat_minor": 5
}
