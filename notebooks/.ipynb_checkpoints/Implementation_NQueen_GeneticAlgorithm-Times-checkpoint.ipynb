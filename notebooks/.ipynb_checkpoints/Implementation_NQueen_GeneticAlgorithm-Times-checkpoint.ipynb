{
 "cells": [
  {
   "cell_type": "code",
   "execution_count": 3,
   "id": "16d74570",
   "metadata": {},
   "outputs": [],
   "source": [
    "# import libraries\n",
    "import random\n",
    "random.seed(10)\n",
    "import sys\n",
    "sys.path.insert(0,'..')\n",
    "import time\n",
    "import timeit\n",
    "#\n",
    "import matplotlib.pyplot as plt\n",
    "import pandas as pd\n",
    "#\n",
    "from utils import num_attacks\n",
    "#\n",
    "from algorithms.GeneticAlgorithm import GeneticChess"
   ]
  },
  {
   "cell_type": "code",
   "execution_count": 4,
   "id": "97b2af4b",
   "metadata": {},
   "outputs": [
    {
     "data": {
      "application/javascript": [
       "IPython.OutputArea.prototype._should_scroll = function(lines) {\n",
       "    return false;\n",
       "}\n"
      ],
      "text/plain": [
       "<IPython.core.display.Javascript object>"
      ]
     },
     "metadata": {},
     "output_type": "display_data"
    }
   ],
   "source": [
    "%%javascript\n",
    "IPython.OutputArea.prototype._should_scroll = function(lines) {\n",
    "    return false;\n",
    "}"
   ]
  },
  {
   "cell_type": "code",
   "execution_count": 5,
   "id": "ca1a36f7",
   "metadata": {},
   "outputs": [],
   "source": [
    "N_tests = [8, 10, 20, 30, 50, 70, 100]\n",
    "runs = 10"
   ]
  },
  {
   "cell_type": "code",
   "execution_count": 6,
   "id": "c79447ef",
   "metadata": {},
   "outputs": [],
   "source": [
    "def get_solution(method,n):\n",
    "    chess = method(n,1000,printed_flag_shuffle=True)\n",
    "    solution = chess.find_solution()\n",
    "#     print(\"Solution: \", solution)\n",
    "    return solution"
   ]
  },
  {
   "cell_type": "code",
   "execution_count": 7,
   "id": "fbe3e6b8",
   "metadata": {},
   "outputs": [
    {
     "name": "stdout",
     "output_type": "stream",
     "text": [
      "\n",
      "getting execution times for n: 8...\n",
      "\n",
      "getting execution times for n: 10...\n",
      "\n",
      "getting execution times for n: 20...\n",
      "\n",
      "getting execution times for n: 30...\n",
      "\n",
      "getting execution times for n: 50...\n",
      "\n",
      "getting execution times for n: 70...\n",
      "\n",
      "getting execution times for n: 100...\n"
     ]
    }
   ],
   "source": [
    "GA_time = [[] for i in range(len(N_tests))]\n",
    "for i in range(len(N_tests)):\n",
    "    \n",
    "    print(f'\\ngetting execution times for n: {N_tests[i]}...')\n",
    "    for r in range(runs):\n",
    "        try:\n",
    "            start = timeit.default_timer()\n",
    "            while True:\n",
    "                solution = get_solution(GeneticChess,N_tests[i])\n",
    "                if num_attacks(solution) == 0:\n",
    "                    break\n",
    "            end = timeit.default_timer()\n",
    "            dur =float(end-start)\n",
    "#             print(round(dur,6))\n",
    "            GA_time[i].append(round(dur,6))\n",
    "        except:\n",
    "            time.sleep(1)\n",
    "            pass\n",
    "GA_time = pd.DataFrame(GA_time).T\n",
    "GA_time.columns = N_tests\n",
    "# GA_time"
   ]
  },
  {
   "cell_type": "code",
   "execution_count": 14,
   "id": "b17e5218",
   "metadata": {},
   "outputs": [
    {
     "name": "stdout",
     "output_type": "stream",
     "text": [
      "Median execution time in seconds by Algorithm and dimension N:\n"
     ]
    },
    {
     "data": {
      "text/html": [
       "<div>\n",
       "<style scoped>\n",
       "    .dataframe tbody tr th:only-of-type {\n",
       "        vertical-align: middle;\n",
       "    }\n",
       "\n",
       "    .dataframe tbody tr th {\n",
       "        vertical-align: top;\n",
       "    }\n",
       "\n",
       "    .dataframe thead th {\n",
       "        text-align: right;\n",
       "    }\n",
       "</style>\n",
       "<table border=\"1\" class=\"dataframe\">\n",
       "  <thead>\n",
       "    <tr style=\"text-align: right;\">\n",
       "      <th></th>\n",
       "      <th>GeneticAlgorithm</th>\n",
       "    </tr>\n",
       "    <tr>\n",
       "      <th>Dimension</th>\n",
       "      <th></th>\n",
       "    </tr>\n",
       "  </thead>\n",
       "  <tbody>\n",
       "    <tr>\n",
       "      <th>8</th>\n",
       "      <td>0.018488</td>\n",
       "    </tr>\n",
       "    <tr>\n",
       "      <th>10</th>\n",
       "      <td>0.091823</td>\n",
       "    </tr>\n",
       "    <tr>\n",
       "      <th>20</th>\n",
       "      <td>0.324494</td>\n",
       "    </tr>\n",
       "    <tr>\n",
       "      <th>30</th>\n",
       "      <td>1.262163</td>\n",
       "    </tr>\n",
       "    <tr>\n",
       "      <th>50</th>\n",
       "      <td>7.419798</td>\n",
       "    </tr>\n",
       "    <tr>\n",
       "      <th>70</th>\n",
       "      <td>27.425013</td>\n",
       "    </tr>\n",
       "    <tr>\n",
       "      <th>100</th>\n",
       "      <td>109.155872</td>\n",
       "    </tr>\n",
       "  </tbody>\n",
       "</table>\n",
       "</div>"
      ],
      "text/plain": [
       "           GeneticAlgorithm\n",
       "Dimension                  \n",
       "8                  0.018488\n",
       "10                 0.091823\n",
       "20                 0.324494\n",
       "30                 1.262163\n",
       "50                 7.419798\n",
       "70                27.425013\n",
       "100              109.155872"
      ]
     },
     "execution_count": 14,
     "metadata": {},
     "output_type": "execute_result"
    }
   ],
   "source": [
    "GA=GA_time.median()\n",
    "GA.name='GeneticAlgorithm'\n",
    "GA = GA.to_frame()\n",
    "#\n",
    "GA.index.name='Dimension'\n",
    "print('Median execution time in seconds by Algorithm and dimension N:')\n",
    "GA"
   ]
  },
  {
   "cell_type": "code",
   "execution_count": 15,
   "id": "e2455dee",
   "metadata": {
    "scrolled": true
   },
   "outputs": [
    {
     "ename": "ImportError",
     "evalue": "Pandas requires version '0.8.9' or newer of 'tabulate' (version '0.8.0' currently installed).",
     "output_type": "error",
     "traceback": [
      "\u001b[1;31m---------------------------------------------------------------------------\u001b[0m",
      "\u001b[1;31mImportError\u001b[0m                               Traceback (most recent call last)",
      "Cell \u001b[1;32mIn [15], line 1\u001b[0m\n\u001b[1;32m----> 1\u001b[0m \u001b[38;5;28mprint\u001b[39m(\u001b[43mGA\u001b[49m\u001b[38;5;241;43m.\u001b[39;49m\u001b[43mto_markdown\u001b[49m\u001b[43m(\u001b[49m\u001b[43m)\u001b[49m)\n",
      "File \u001b[1;32m~\\anaconda3\\lib\\site-packages\\pandas\\core\\frame.py:2841\u001b[0m, in \u001b[0;36mDataFrame.to_markdown\u001b[1;34m(self, buf, mode, index, storage_options, **kwargs)\u001b[0m\n\u001b[0;32m   2839\u001b[0m kwargs\u001b[38;5;241m.\u001b[39msetdefault(\u001b[38;5;124m\"\u001b[39m\u001b[38;5;124mtablefmt\u001b[39m\u001b[38;5;124m\"\u001b[39m, \u001b[38;5;124m\"\u001b[39m\u001b[38;5;124mpipe\u001b[39m\u001b[38;5;124m\"\u001b[39m)\n\u001b[0;32m   2840\u001b[0m kwargs\u001b[38;5;241m.\u001b[39msetdefault(\u001b[38;5;124m\"\u001b[39m\u001b[38;5;124mshowindex\u001b[39m\u001b[38;5;124m\"\u001b[39m, index)\n\u001b[1;32m-> 2841\u001b[0m tabulate \u001b[38;5;241m=\u001b[39m \u001b[43mimport_optional_dependency\u001b[49m\u001b[43m(\u001b[49m\u001b[38;5;124;43m\"\u001b[39;49m\u001b[38;5;124;43mtabulate\u001b[39;49m\u001b[38;5;124;43m\"\u001b[39;49m\u001b[43m)\u001b[49m\n\u001b[0;32m   2842\u001b[0m result \u001b[38;5;241m=\u001b[39m tabulate\u001b[38;5;241m.\u001b[39mtabulate(\u001b[38;5;28mself\u001b[39m, \u001b[38;5;241m*\u001b[39m\u001b[38;5;241m*\u001b[39mkwargs)\n\u001b[0;32m   2843\u001b[0m \u001b[38;5;28;01mif\u001b[39;00m buf \u001b[38;5;129;01mis\u001b[39;00m \u001b[38;5;28;01mNone\u001b[39;00m:\n",
      "File \u001b[1;32m~\\anaconda3\\lib\\site-packages\\pandas\\compat\\_optional.py:171\u001b[0m, in \u001b[0;36mimport_optional_dependency\u001b[1;34m(name, extra, errors, min_version)\u001b[0m\n\u001b[0;32m    169\u001b[0m             \u001b[38;5;28;01mreturn\u001b[39;00m \u001b[38;5;28;01mNone\u001b[39;00m\n\u001b[0;32m    170\u001b[0m         \u001b[38;5;28;01melif\u001b[39;00m errors \u001b[38;5;241m==\u001b[39m \u001b[38;5;124m\"\u001b[39m\u001b[38;5;124mraise\u001b[39m\u001b[38;5;124m\"\u001b[39m:\n\u001b[1;32m--> 171\u001b[0m             \u001b[38;5;28;01mraise\u001b[39;00m \u001b[38;5;167;01mImportError\u001b[39;00m(msg)\n\u001b[0;32m    173\u001b[0m \u001b[38;5;28;01mreturn\u001b[39;00m module\n",
      "\u001b[1;31mImportError\u001b[0m: Pandas requires version '0.8.9' or newer of 'tabulate' (version '0.8.0' currently installed)."
     ]
    }
   ],
   "source": [
    "print(GA.to_markdown())"
   ]
  },
  {
   "cell_type": "code",
   "execution_count": null,
   "id": "bba03f1e",
   "metadata": {},
   "outputs": [],
   "source": [
    "GA=GA_time.mean()\n",
    "GA.name='GeneticAlgorithm'\n",
    "GA = GA.to_frame()\n",
    "#\n",
    "GA.index.name='Dimension'\n",
    "print('Average execution time in seconds by Algorithm and dimension N:')\n",
    "GA"
   ]
  },
  {
   "cell_type": "code",
   "execution_count": null,
   "id": "f8ed5410",
   "metadata": {},
   "outputs": [],
   "source": [
    "print(GA.to_markdown())"
   ]
  }
 ],
 "metadata": {
  "kernelspec": {
   "display_name": "Python 3 (ipykernel)",
   "language": "python",
   "name": "python3"
  },
  "language_info": {
   "codemirror_mode": {
    "name": "ipython",
    "version": 3
   },
   "file_extension": ".py",
   "mimetype": "text/x-python",
   "name": "python",
   "nbconvert_exporter": "python",
   "pygments_lexer": "ipython3",
   "version": "3.9.13"
  }
 },
 "nbformat": 4,
 "nbformat_minor": 5
}
