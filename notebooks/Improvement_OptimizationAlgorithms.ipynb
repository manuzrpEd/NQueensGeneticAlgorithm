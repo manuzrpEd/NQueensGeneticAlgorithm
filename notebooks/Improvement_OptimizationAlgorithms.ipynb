{
 "cells": [
  {
   "cell_type": "markdown",
   "id": "d34c5cd7",
   "metadata": {},
   "source": [
    "This notebook compares the Genetic Algorithm performance in terms of speed against selected global optimization methods. All within the context of the N-Queens problem."
   ]
  },
  {
   "cell_type": "code",
   "execution_count": 1,
   "id": "9da1d97d",
   "metadata": {},
   "outputs": [],
   "source": [
    "# import libraries\n",
    "import random\n",
    "random.seed(10)\n",
    "import sys\n",
    "sys.path.insert(0,'..')\n",
    "import time\n",
    "import timeit\n",
    "#\n",
    "import matplotlib.pyplot as plt\n",
    "import pandas as pd\n",
    "#\n",
    "from utils import num_attacks\n",
    "#\n",
    "from algorithms.GeneticAlgorithm import GeneticChess\n",
    "from algorithms import LightBeamSearch\n",
    "from algorithms import MinConflictsHeuristic\n",
    "from algorithms import SimulatedAnnealing\n",
    "from algorithms import SteepestAscentHillClimb"
   ]
  },
  {
   "cell_type": "code",
   "execution_count": 2,
   "id": "5e33a977",
   "metadata": {},
   "outputs": [
    {
     "data": {
      "application/javascript": [
       "IPython.OutputArea.prototype._should_scroll = function(lines) {\n",
       "    return false;\n",
       "}\n"
      ],
      "text/plain": [
       "<IPython.core.display.Javascript object>"
      ]
     },
     "metadata": {},
     "output_type": "display_data"
    }
   ],
   "source": [
    "%%javascript\n",
    "IPython.OutputArea.prototype._should_scroll = function(lines) {\n",
    "    return false;\n",
    "}"
   ]
  },
  {
   "cell_type": "code",
   "execution_count": 3,
   "id": "6ac54779",
   "metadata": {},
   "outputs": [],
   "source": [
    "N_tests = [8, 10, 20, 50, 100]\n",
    "runs = 10"
   ]
  },
  {
   "cell_type": "code",
   "execution_count": 4,
   "id": "48e65d9f",
   "metadata": {},
   "outputs": [],
   "source": [
    "def get_solution(method,n: int):\n",
    "    \"\"\"\n",
    "    This function gets the solution to the N-Queen problem.\n",
    "    \n",
    "    Parameters:\n",
    "    method: The method to solve the N-Queen problem.\n",
    "    n (int): The dimension (number of desired queens).\n",
    "    \n",
    "    Returns:\n",
    "    solution: The proposed solution.\n",
    "    \"\"\"\n",
    "    assert type(n) == int, \"n is not an integer!\"\n",
    "    \n",
    "    chess = method(n,1000,printed_flag_shuffle=True)\n",
    "    solution = chess.find_solution()\n",
    "#     print(\"Solution: \", solution)\n",
    "    return solution"
   ]
  },
  {
   "cell_type": "code",
   "execution_count": 5,
   "id": "2a9fdeac",
   "metadata": {
    "scrolled": false
   },
   "outputs": [
    {
     "name": "stdout",
     "output_type": "stream",
     "text": [
      "\n",
      "getting execution times for n: 8...\n",
      "\n",
      "getting execution times for n: 10...\n",
      "\n",
      "getting execution times for n: 20...\n",
      "\n",
      "getting execution times for n: 50...\n",
      "\n",
      "getting execution times for n: 100...\n"
     ]
    }
   ],
   "source": [
    "GA_time = [[] for i in range(len(N_tests))]\n",
    "for i in range(len(N_tests)):\n",
    "    \n",
    "    print(f'\\ngetting execution times for n: {N_tests[i]}...')\n",
    "    for r in range(runs):\n",
    "        try:\n",
    "            start = timeit.default_timer()\n",
    "            while True:\n",
    "                solution = get_solution(GeneticChess,N_tests[i])\n",
    "                if num_attacks(solution) == 0:\n",
    "                    break\n",
    "            end = timeit.default_timer()\n",
    "            dur =float(end-start)\n",
    "#             print(round(dur,6))\n",
    "            GA_time[i].append(round(dur,6))\n",
    "        except:\n",
    "            time.sleep(1)\n",
    "            pass\n",
    "GA_time = pd.DataFrame(GA_time).T\n",
    "GA_time.columns = N_tests\n",
    "# GA_time"
   ]
  },
  {
   "cell_type": "code",
   "execution_count": 6,
   "id": "b4d60837",
   "metadata": {
    "scrolled": true
   },
   "outputs": [
    {
     "name": "stdout",
     "output_type": "stream",
     "text": [
      "\n",
      "getting execution times for n: 8...\n",
      "\n",
      "getting execution times for n: 10...\n",
      "\n",
      "getting execution times for n: 20...\n",
      "\n",
      "getting execution times for n: 50...\n",
      "\n",
      "getting execution times for n: 100...\n"
     ]
    }
   ],
   "source": [
    "LBS_time = [[] for i in range(len(N_tests))]\n",
    "for i in range(len(N_tests)):\n",
    "    \n",
    "    print(f'\\ngetting execution times for n: {N_tests[i]}...')\n",
    "    for r in range(runs):\n",
    "        try:\n",
    "            start = timeit.default_timer()\n",
    "            while True:\n",
    "                solution = LightBeamSearch.find_solution(N_tests[i])\n",
    "                if num_attacks(solution) == 0:\n",
    "                    break\n",
    "            end = timeit.default_timer()\n",
    "            dur =float(end-start)\n",
    "            LBS_time[i].append(round(dur,6))\n",
    "    #         print(round(dur,6))\n",
    "        except:\n",
    "            time.sleep(1)\n",
    "            pass\n",
    "LBS_time = pd.DataFrame(LBS_time).T\n",
    "LBS_time.columns = N_tests\n",
    "# LBS_time"
   ]
  },
  {
   "cell_type": "code",
   "execution_count": 7,
   "id": "ee04580b",
   "metadata": {},
   "outputs": [
    {
     "name": "stdout",
     "output_type": "stream",
     "text": [
      "\n",
      "getting execution times for n: 8...\n",
      "\n",
      "getting execution times for n: 10...\n",
      "\n",
      "getting execution times for n: 20...\n",
      "\n",
      "getting execution times for n: 50...\n",
      "\n",
      "getting execution times for n: 100...\n"
     ]
    }
   ],
   "source": [
    "MCH_time = [[] for i in range(len(N_tests))]\n",
    "for i in range(len(N_tests)):\n",
    "    \n",
    "    print(f'\\ngetting execution times for n: {N_tests[i]}...')\n",
    "    for r in range(runs):\n",
    "        try:\n",
    "            start = timeit.default_timer()\n",
    "            while True:\n",
    "                solution = MinConflictsHeuristic.find_solution(N_tests[i])\n",
    "                if num_attacks(solution) == 0:\n",
    "                    break\n",
    "            end = timeit.default_timer()\n",
    "            dur =float(end-start)\n",
    "            MCH_time[i].append(round(dur,6))\n",
    "#             print(round(dur,6))\n",
    "        except:\n",
    "            time.sleep(1)\n",
    "            pass\n",
    "MCH_time = pd.DataFrame(MCH_time).T\n",
    "MCH_time.columns = N_tests\n",
    "# MCH_time"
   ]
  },
  {
   "cell_type": "code",
   "execution_count": 8,
   "id": "777ccb02",
   "metadata": {},
   "outputs": [
    {
     "name": "stdout",
     "output_type": "stream",
     "text": [
      "\n",
      "getting execution times for n: 8...\n",
      "\n",
      "getting execution times for n: 10...\n",
      "\n",
      "getting execution times for n: 20...\n",
      "\n",
      "getting execution times for n: 50...\n",
      "\n",
      "getting execution times for n: 100...\n"
     ]
    }
   ],
   "source": [
    "SA_time = [[] for i in range(len(N_tests))]\n",
    "for i in range(len(N_tests)):\n",
    "    \n",
    "    print(f'\\ngetting execution times for n: {N_tests[i]}...')\n",
    "    for r in range(runs):\n",
    "        try:\n",
    "            start = timeit.default_timer()\n",
    "            while True:\n",
    "                solution = SimulatedAnnealing.find_solution(N_tests[i])\n",
    "                if num_attacks(solution) == 0:\n",
    "                    break\n",
    "            end = timeit.default_timer()\n",
    "            dur =float(end-start)\n",
    "            SA_time[i].append(round(dur,6))\n",
    "#             print(round(dur,6))\n",
    "        except:\n",
    "            time.sleep(1)\n",
    "            pass\n",
    "SA_time = pd.DataFrame(SA_time).T\n",
    "SA_time.columns = N_tests\n",
    "# SA_time"
   ]
  },
  {
   "cell_type": "code",
   "execution_count": 9,
   "id": "2f962a6e",
   "metadata": {
    "scrolled": true
   },
   "outputs": [
    {
     "name": "stdout",
     "output_type": "stream",
     "text": [
      "\n",
      "getting execution times for n: 8...\n",
      "\n",
      "getting execution times for n: 10...\n",
      "\n",
      "getting execution times for n: 20...\n",
      "\n",
      "getting execution times for n: 50...\n",
      "\n",
      "getting execution times for n: 100...\n"
     ]
    }
   ],
   "source": [
    "SAHC_time = [[] for i in range(len(N_tests))]\n",
    "for i in range(len(N_tests)):\n",
    "    \n",
    "    print(f'\\ngetting execution times for n: {N_tests[i]}...')\n",
    "    for r in range(runs):\n",
    "        try:\n",
    "            start = timeit.default_timer()\n",
    "            while True:\n",
    "                solution = SteepestAscentHillClimb.find_solution(N_tests[i])\n",
    "                if num_attacks(solution) == 0:\n",
    "                    break\n",
    "            end = timeit.default_timer()\n",
    "            dur =float(end-start)\n",
    "            SAHC_time[i].append(round(dur,6))\n",
    "#             print(round(dur,6))\n",
    "        except:\n",
    "            time.sleep(1)\n",
    "            pass\n",
    "SAHC_time = pd.DataFrame(SAHC_time).T\n",
    "SAHC_time.columns = N_tests\n",
    "# SAHC_time"
   ]
  },
  {
   "cell_type": "code",
   "execution_count": 10,
   "id": "3a0524e9",
   "metadata": {
    "scrolled": true
   },
   "outputs": [
    {
     "data": {
      "image/png": "[encoded data removed]",
      "text/plain": [
       "<Figure size 800x800 with 1 Axes>"
      ]
     },
     "metadata": {},
     "output_type": "display_data"
    }
   ],
   "source": [
    "plt.figure(figsize=(8, 8))\n",
    "plt.plot(GA_time.median(), label='GeneticAlgorithm')\n",
    "plt.plot(LBS_time.median(), label='LightBeamSearch')\n",
    "plt.plot(MCH_time.median(), label='MinConflictsHeuristic')\n",
    "plt.plot(SA_time.median(), label='SimulatedAnnealing')\n",
    "plt.plot(SAHC_time.median(), label='SteepestAscentHillClimb')\n",
    "plt.title(f'Median execution time by Algorithm')\n",
    "plt.legend(loc='upper left')\n",
    "plt.xticks(N_tests)\n",
    "plt.ylabel('Seconds')\n",
    "plt.xlabel('N Dimension')\n",
    "plt.grid(True)\n",
    "plt.savefig(f'../solutions/ExecutionTimeByAlgorithm.png')\n",
    "plt.show()"
   ]
  },
  {
   "cell_type": "code",
   "execution_count": 11,
   "id": "e2b0bbb7",
   "metadata": {
    "scrolled": true
   },
   "outputs": [
    {
     "name": "stdout",
     "output_type": "stream",
     "text": [
      "Median execution time in seconds by Algorithm and dimension N:\n"
     ]
    },
    {
     "data": {
      "text/html": [
       "<div>\n",
       "<style scoped>\n",
       "    .dataframe tbody tr th:only-of-type {\n",
       "        vertical-align: middle;\n",
       "    }\n",
       "\n",
       "    .dataframe tbody tr th {\n",
       "        vertical-align: top;\n",
       "    }\n",
       "\n",
       "    .dataframe thead th {\n",
       "        text-align: right;\n",
       "    }\n",
       "</style>\n",
       "<table border=\"1\" class=\"dataframe\">\n",
       "  <thead>\n",
       "    <tr style=\"text-align: right;\">\n",
       "      <th></th>\n",
       "      <th>GeneticAlgorithm</th>\n",
       "      <th>LightBeamSearch</th>\n",
       "      <th>MinConflictsHeuristic</th>\n",
       "      <th>SimulatedAnnealing</th>\n",
       "      <th>SteepestAscentHillClimb</th>\n",
       "    </tr>\n",
       "    <tr>\n",
       "      <th>Dimension</th>\n",
       "      <th></th>\n",
       "      <th></th>\n",
       "      <th></th>\n",
       "      <th></th>\n",
       "      <th></th>\n",
       "    </tr>\n",
       "  </thead>\n",
       "  <tbody>\n",
       "    <tr>\n",
       "      <th>8</th>\n",
       "      <td>0.030713</td>\n",
       "      <td>0.016939</td>\n",
       "      <td>0.000297</td>\n",
       "      <td>0.109616</td>\n",
       "      <td>0.005782</td>\n",
       "    </tr>\n",
       "    <tr>\n",
       "      <th>10</th>\n",
       "      <td>0.212449</td>\n",
       "      <td>0.047570</td>\n",
       "      <td>0.001168</td>\n",
       "      <td>0.199490</td>\n",
       "      <td>0.017409</td>\n",
       "    </tr>\n",
       "    <tr>\n",
       "      <th>20</th>\n",
       "      <td>0.595207</td>\n",
       "      <td>0.691281</td>\n",
       "      <td>0.002958</td>\n",
       "      <td>1.213576</td>\n",
       "      <td>0.341307</td>\n",
       "    </tr>\n",
       "    <tr>\n",
       "      <th>50</th>\n",
       "      <td>14.791450</td>\n",
       "      <td>54.240808</td>\n",
       "      <td>0.031398</td>\n",
       "      <td>21.909226</td>\n",
       "      <td>7.856276</td>\n",
       "    </tr>\n",
       "    <tr>\n",
       "      <th>100</th>\n",
       "      <td>121.564239</td>\n",
       "      <td>259.252051</td>\n",
       "      <td>0.147883</td>\n",
       "      <td>573.363638</td>\n",
       "      <td>81.419259</td>\n",
       "    </tr>\n",
       "  </tbody>\n",
       "</table>\n",
       "</div>"
      ],
      "text/plain": [
       "           GeneticAlgorithm  LightBeamSearch  MinConflictsHeuristic  \\\n",
       "Dimension                                                             \n",
       "8                  0.030713         0.016939               0.000297   \n",
       "10                 0.212449         0.047570               0.001168   \n",
       "20                 0.595207         0.691281               0.002958   \n",
       "50                14.791450        54.240808               0.031398   \n",
       "100              121.564239       259.252051               0.147883   \n",
       "\n",
       "           SimulatedAnnealing  SteepestAscentHillClimb  \n",
       "Dimension                                               \n",
       "8                    0.109616                 0.005782  \n",
       "10                   0.199490                 0.017409  \n",
       "20                   1.213576                 0.341307  \n",
       "50                  21.909226                 7.856276  \n",
       "100                573.363638                81.419259  "
      ]
     },
     "execution_count": 11,
     "metadata": {},
     "output_type": "execute_result"
    }
   ],
   "source": [
    "GA=GA_time.median()\n",
    "GA.name='GeneticAlgorithm'\n",
    "LBS=LBS_time.median()\n",
    "LBS.name='LightBeamSearch'\n",
    "MCH=MCH_time.median()\n",
    "MCH.name='MinConflictsHeuristic'\n",
    "SA=SA_time.median()\n",
    "SA.name='SimulatedAnnealing'\n",
    "SAHC=SAHC_time.median()\n",
    "SAHC.name='SteepestAscentHillClimb'\n",
    "#\n",
    "summary = pd.concat([GA, LBS, MCH, SA, SAHC], axis=1)\n",
    "summary.index.name='Dimension'\n",
    "print('Median execution time in seconds by Algorithm and dimension N:')\n",
    "summary"
   ]
  },
  {
   "cell_type": "code",
   "execution_count": 12,
   "id": "7cadbcf7",
   "metadata": {},
   "outputs": [
    {
     "name": "stdout",
     "output_type": "stream",
     "text": [
      "|   Dimension |   GeneticAlgorithm |   LightBeamSearch |   MinConflictsHeuristic |   SimulatedAnnealing |   SteepestAscentHillClimb |\n",
      "|------------:|-------------------:|------------------:|------------------------:|---------------------:|--------------------------:|\n",
      "|           8 |          0.0307125 |          0.016939 |               0.000297  |             0.109616 |                 0.0057825 |\n",
      "|          10 |          0.212449  |          0.04757  |               0.001168  |             0.19949  |                 0.017409  |\n",
      "|          20 |          0.595207  |          0.691281 |               0.002958  |             1.21358  |                 0.341307  |\n",
      "|          50 |         14.7915    |         54.2408   |               0.0313975 |            21.9092   |                 7.85628   |\n",
      "|         100 |        121.564     |        259.252    |               0.147883  |           573.364    |                81.4193    |\n"
     ]
    }
   ],
   "source": [
    "print(summary.to_markdown())"
   ]
  },
  {
   "cell_type": "code",
   "execution_count": 13,
   "id": "5ac8cf18",
   "metadata": {},
   "outputs": [
    {
     "name": "stdout",
     "output_type": "stream",
     "text": [
      "Average execution time in seconds by Algorithm and dimension N:\n"
     ]
    },
    {
     "data": {
      "text/html": [
       "<div>\n",
       "<style scoped>\n",
       "    .dataframe tbody tr th:only-of-type {\n",
       "        vertical-align: middle;\n",
       "    }\n",
       "\n",
       "    .dataframe tbody tr th {\n",
       "        vertical-align: top;\n",
       "    }\n",
       "\n",
       "    .dataframe thead th {\n",
       "        text-align: right;\n",
       "    }\n",
       "</style>\n",
       "<table border=\"1\" class=\"dataframe\">\n",
       "  <thead>\n",
       "    <tr style=\"text-align: right;\">\n",
       "      <th></th>\n",
       "      <th>GeneticAlgorithm</th>\n",
       "      <th>LightBeamSearch</th>\n",
       "      <th>MinConflictsHeuristic</th>\n",
       "      <th>SimulatedAnnealing</th>\n",
       "      <th>SteepestAscentHillClimb</th>\n",
       "    </tr>\n",
       "    <tr>\n",
       "      <th>Dimension</th>\n",
       "      <th></th>\n",
       "      <th></th>\n",
       "      <th></th>\n",
       "      <th></th>\n",
       "      <th></th>\n",
       "    </tr>\n",
       "  </thead>\n",
       "  <tbody>\n",
       "    <tr>\n",
       "      <th>8</th>\n",
       "      <td>0.082184</td>\n",
       "      <td>0.020890</td>\n",
       "      <td>0.000302</td>\n",
       "      <td>0.122465</td>\n",
       "      <td>0.012743</td>\n",
       "    </tr>\n",
       "    <tr>\n",
       "      <th>10</th>\n",
       "      <td>0.217157</td>\n",
       "      <td>0.170879</td>\n",
       "      <td>0.001105</td>\n",
       "      <td>0.208244</td>\n",
       "      <td>0.024488</td>\n",
       "    </tr>\n",
       "    <tr>\n",
       "      <th>20</th>\n",
       "      <td>0.602861</td>\n",
       "      <td>1.693934</td>\n",
       "      <td>0.005437</td>\n",
       "      <td>1.260155</td>\n",
       "      <td>0.560277</td>\n",
       "    </tr>\n",
       "    <tr>\n",
       "      <th>50</th>\n",
       "      <td>14.979840</td>\n",
       "      <td>90.968933</td>\n",
       "      <td>0.030188</td>\n",
       "      <td>24.924171</td>\n",
       "      <td>11.469026</td>\n",
       "    </tr>\n",
       "    <tr>\n",
       "      <th>100</th>\n",
       "      <td>126.113336</td>\n",
       "      <td>517.042630</td>\n",
       "      <td>0.155363</td>\n",
       "      <td>746.870717</td>\n",
       "      <td>150.384449</td>\n",
       "    </tr>\n",
       "  </tbody>\n",
       "</table>\n",
       "</div>"
      ],
      "text/plain": [
       "           GeneticAlgorithm  LightBeamSearch  MinConflictsHeuristic  \\\n",
       "Dimension                                                             \n",
       "8                  0.082184         0.020890               0.000302   \n",
       "10                 0.217157         0.170879               0.001105   \n",
       "20                 0.602861         1.693934               0.005437   \n",
       "50                14.979840        90.968933               0.030188   \n",
       "100              126.113336       517.042630               0.155363   \n",
       "\n",
       "           SimulatedAnnealing  SteepestAscentHillClimb  \n",
       "Dimension                                               \n",
       "8                    0.122465                 0.012743  \n",
       "10                   0.208244                 0.024488  \n",
       "20                   1.260155                 0.560277  \n",
       "50                  24.924171                11.469026  \n",
       "100                746.870717               150.384449  "
      ]
     },
     "execution_count": 13,
     "metadata": {},
     "output_type": "execute_result"
    }
   ],
   "source": [
    "GA=GA_time.mean()\n",
    "GA.name='GeneticAlgorithm'\n",
    "LBS=LBS_time.mean()\n",
    "LBS.name='LightBeamSearch'\n",
    "MCH=MCH_time.mean()\n",
    "MCH.name='MinConflictsHeuristic'\n",
    "SA=SA_time.mean()\n",
    "SA.name='SimulatedAnnealing'\n",
    "SAHC=SAHC_time.mean()\n",
    "SAHC.name='SteepestAscentHillClimb'\n",
    "#\n",
    "summary = pd.concat([GA, LBS, MCH, SA, SAHC], axis=1)\n",
    "summary.index.name='Dimension'\n",
    "print('Average execution time in seconds by Algorithm and dimension N:')\n",
    "summary"
   ]
  },
  {
   "cell_type": "code",
   "execution_count": 14,
   "id": "329a9161",
   "metadata": {},
   "outputs": [
    {
     "name": "stdout",
     "output_type": "stream",
     "text": [
      "|   Dimension |   GeneticAlgorithm |   LightBeamSearch |   MinConflictsHeuristic |   SimulatedAnnealing |   SteepestAscentHillClimb |\n",
      "|------------:|-------------------:|------------------:|------------------------:|---------------------:|--------------------------:|\n",
      "|           8 |          0.0821836 |          0.02089  |               0.0003022 |             0.122465 |                 0.0127429 |\n",
      "|          10 |          0.217157  |          0.170879 |               0.0011047 |             0.208244 |                 0.0244876 |\n",
      "|          20 |          0.602861  |          1.69393  |               0.0054371 |             1.26016  |                 0.560277  |\n",
      "|          50 |         14.9798    |         90.9689   |               0.0301877 |            24.9242   |                11.469     |\n",
      "|         100 |        126.113     |        517.043    |               0.155363  |           746.871    |               150.384     |\n"
     ]
    }
   ],
   "source": [
    "print(summary.to_markdown())"
   ]
  }
 ],
 "metadata": {
  "kernelspec": {
   "display_name": "Python 3 (ipykernel)",
   "language": "python",
   "name": "python3"
  },
  "language_info": {
   "codemirror_mode": {
    "name": "ipython",
    "version": 3
   },
   "file_extension": ".py",
   "mimetype": "text/x-python",
   "name": "python",
   "nbconvert_exporter": "python",
   "pygments_lexer": "ipython3",
   "version": "3.9.13"
  }
 },
 "nbformat": 4,
 "nbformat_minor": 5
}
