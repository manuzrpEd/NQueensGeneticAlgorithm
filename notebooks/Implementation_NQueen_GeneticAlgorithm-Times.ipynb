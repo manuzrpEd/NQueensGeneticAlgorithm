{
 "cells": [
  {
   "cell_type": "code",
   "execution_count": 1,
   "id": "16d74570",
   "metadata": {},
   "outputs": [],
   "source": [
    "# import libraries\n",
    "from GeneticAlgorithm import GeneticChess\n",
    "#\n",
    "import random\n",
    "random.seed(10)\n",
    "import time\n",
    "import timeit\n",
    "#\n",
    "import matplotlib.pyplot as plt\n",
    "import pandas as pd\n",
    "#\n",
    "from utils import num_attacks"
   ]
  },
  {
   "cell_type": "code",
   "execution_count": 2,
   "id": "97b2af4b",
   "metadata": {},
   "outputs": [
    {
     "data": {
      "application/javascript": [
       "IPython.OutputArea.prototype._should_scroll = function(lines) {\n",
       "    return false;\n",
       "}\n"
      ],
      "text/plain": [
       "<IPython.core.display.Javascript object>"
      ]
     },
     "metadata": {},
     "output_type": "display_data"
    }
   ],
   "source": [
    "%%javascript\n",
    "IPython.OutputArea.prototype._should_scroll = function(lines) {\n",
    "    return false;\n",
    "}"
   ]
  },
  {
   "cell_type": "code",
   "execution_count": 3,
   "id": "ca1a36f7",
   "metadata": {},
   "outputs": [],
   "source": [
    "N_tests = [8, 10, 20, 30, 50, 70, 100]\n",
    "runs = 10"
   ]
  },
  {
   "cell_type": "code",
   "execution_count": 4,
   "id": "c79447ef",
   "metadata": {},
   "outputs": [],
   "source": [
    "def get_solution(method,n):\n",
    "    chess = method(n,1000,printed_flag_shuffle=True)\n",
    "    solution = chess.find_solution()\n",
    "#     print(\"Solution: \", solution)\n",
    "    return solution"
   ]
  },
  {
   "cell_type": "code",
   "execution_count": 5,
   "id": "fbe3e6b8",
   "metadata": {},
   "outputs": [
    {
     "name": "stdout",
     "output_type": "stream",
     "text": [
      "\n",
      "getting execution times for n: 8...\n",
      "\n",
      "getting execution times for n: 10...\n",
      "\n",
      "getting execution times for n: 20...\n",
      "\n",
      "getting execution times for n: 30...\n",
      "\n",
      "getting execution times for n: 50...\n",
      "\n",
      "getting execution times for n: 70...\n",
      "\n",
      "getting execution times for n: 100...\n"
     ]
    }
   ],
   "source": [
    "GA_time = [[] for i in range(len(N_tests))]\n",
    "for i in range(len(N_tests)):\n",
    "    \n",
    "    print(f'\\ngetting execution times for n: {N_tests[i]}...')\n",
    "    for r in range(runs):\n",
    "        try:\n",
    "            start = timeit.default_timer()\n",
    "            while True:\n",
    "                solution = get_solution(GeneticChess,N_tests[i])\n",
    "                if num_attacks(solution) == 0:\n",
    "                    break\n",
    "            end = timeit.default_timer()\n",
    "            dur =float(end-start)\n",
    "#             print(round(dur,6))\n",
    "            GA_time[i].append(round(dur,6))\n",
    "        except:\n",
    "            time.sleep(1)\n",
    "            pass\n",
    "GA_time = pd.DataFrame(GA_time).T\n",
    "GA_time.columns = N_tests\n",
    "# GA_time"
   ]
  },
  {
   "cell_type": "code",
   "execution_count": 6,
   "id": "b17e5218",
   "metadata": {},
   "outputs": [
    {
     "name": "stdout",
     "output_type": "stream",
     "text": [
      "Median execution time in seconds by Algorithm and dimension N:\n"
     ]
    },
    {
     "data": {
      "text/html": [
       "<div>\n",
       "<style scoped>\n",
       "    .dataframe tbody tr th:only-of-type {\n",
       "        vertical-align: middle;\n",
       "    }\n",
       "\n",
       "    .dataframe tbody tr th {\n",
       "        vertical-align: top;\n",
       "    }\n",
       "\n",
       "    .dataframe thead th {\n",
       "        text-align: right;\n",
       "    }\n",
       "</style>\n",
       "<table border=\"1\" class=\"dataframe\">\n",
       "  <thead>\n",
       "    <tr style=\"text-align: right;\">\n",
       "      <th></th>\n",
       "      <th>GeneticAlgorithm</th>\n",
       "    </tr>\n",
       "    <tr>\n",
       "      <th>Dimension</th>\n",
       "      <th></th>\n",
       "    </tr>\n",
       "  </thead>\n",
       "  <tbody>\n",
       "    <tr>\n",
       "      <th>8</th>\n",
       "      <td>0.016971</td>\n",
       "    </tr>\n",
       "    <tr>\n",
       "      <th>10</th>\n",
       "      <td>0.091722</td>\n",
       "    </tr>\n",
       "    <tr>\n",
       "      <th>20</th>\n",
       "      <td>0.322267</td>\n",
       "    </tr>\n",
       "    <tr>\n",
       "      <th>30</th>\n",
       "      <td>1.283923</td>\n",
       "    </tr>\n",
       "    <tr>\n",
       "      <th>50</th>\n",
       "      <td>7.101266</td>\n",
       "    </tr>\n",
       "    <tr>\n",
       "      <th>70</th>\n",
       "      <td>26.860250</td>\n",
       "    </tr>\n",
       "    <tr>\n",
       "      <th>100</th>\n",
       "      <td>115.579472</td>\n",
       "    </tr>\n",
       "  </tbody>\n",
       "</table>\n",
       "</div>"
      ],
      "text/plain": [
       "           GeneticAlgorithm\n",
       "Dimension                  \n",
       "8                  0.016971\n",
       "10                 0.091722\n",
       "20                 0.322267\n",
       "30                 1.283923\n",
       "50                 7.101266\n",
       "70                26.860250\n",
       "100              115.579472"
      ]
     },
     "execution_count": 6,
     "metadata": {},
     "output_type": "execute_result"
    }
   ],
   "source": [
    "GA=GA_time.median()\n",
    "GA.name='GeneticAlgorithm'\n",
    "GA = GA.to_frame()\n",
    "#\n",
    "GA.index.name='Dimension'\n",
    "print('Median execution time in seconds by Algorithm and dimension N:')\n",
    "GA"
   ]
  },
  {
   "cell_type": "code",
   "execution_count": 7,
   "id": "bba03f1e",
   "metadata": {},
   "outputs": [
    {
     "name": "stdout",
     "output_type": "stream",
     "text": [
      "Average execution time in seconds by Algorithm and dimension N:\n"
     ]
    },
    {
     "data": {
      "text/html": [
       "<div>\n",
       "<style scoped>\n",
       "    .dataframe tbody tr th:only-of-type {\n",
       "        vertical-align: middle;\n",
       "    }\n",
       "\n",
       "    .dataframe tbody tr th {\n",
       "        vertical-align: top;\n",
       "    }\n",
       "\n",
       "    .dataframe thead th {\n",
       "        text-align: right;\n",
       "    }\n",
       "</style>\n",
       "<table border=\"1\" class=\"dataframe\">\n",
       "  <thead>\n",
       "    <tr style=\"text-align: right;\">\n",
       "      <th></th>\n",
       "      <th>GeneticAlgorithm</th>\n",
       "    </tr>\n",
       "    <tr>\n",
       "      <th>Dimension</th>\n",
       "      <th></th>\n",
       "    </tr>\n",
       "  </thead>\n",
       "  <tbody>\n",
       "    <tr>\n",
       "      <th>8</th>\n",
       "      <td>0.048332</td>\n",
       "    </tr>\n",
       "    <tr>\n",
       "      <th>10</th>\n",
       "      <td>0.102759</td>\n",
       "    </tr>\n",
       "    <tr>\n",
       "      <th>20</th>\n",
       "      <td>0.350204</td>\n",
       "    </tr>\n",
       "    <tr>\n",
       "      <th>30</th>\n",
       "      <td>1.263038</td>\n",
       "    </tr>\n",
       "    <tr>\n",
       "      <th>50</th>\n",
       "      <td>8.381189</td>\n",
       "    </tr>\n",
       "    <tr>\n",
       "      <th>70</th>\n",
       "      <td>26.682116</td>\n",
       "    </tr>\n",
       "    <tr>\n",
       "      <th>100</th>\n",
       "      <td>114.645859</td>\n",
       "    </tr>\n",
       "  </tbody>\n",
       "</table>\n",
       "</div>"
      ],
      "text/plain": [
       "           GeneticAlgorithm\n",
       "Dimension                  \n",
       "8                  0.048332\n",
       "10                 0.102759\n",
       "20                 0.350204\n",
       "30                 1.263038\n",
       "50                 8.381189\n",
       "70                26.682116\n",
       "100              114.645859"
      ]
     },
     "execution_count": 7,
     "metadata": {},
     "output_type": "execute_result"
    }
   ],
   "source": [
    "GA=GA_time.mean()\n",
    "GA.name='GeneticAlgorithm'\n",
    "GA = GA.to_frame()\n",
    "#\n",
    "GA.index.name='Dimension'\n",
    "print('Average execution time in seconds by Algorithm and dimension N:')\n",
    "GA"
   ]
  }
 ],
 "metadata": {
  "kernelspec": {
   "display_name": "Python 3 (ipykernel)",
   "language": "python",
   "name": "python3"
  },
  "language_info": {
   "codemirror_mode": {
    "name": "ipython",
    "version": 3
   },
   "file_extension": ".py",
   "mimetype": "text/x-python",
   "name": "python",
   "nbconvert_exporter": "python",
   "pygments_lexer": "ipython3",
   "version": "3.9.13"
  }
 },
 "nbformat": 4,
 "nbformat_minor": 5
}
